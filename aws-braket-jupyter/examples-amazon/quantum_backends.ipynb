{
 "cells": [
  {
   "cell_type": "code",
   "execution_count": 6,
   "id": "charged-operations",
   "metadata": {},
   "outputs": [],
   "source": [
    "from braket.aws import AwsDevice\n",
    "from braket.devices import LocalSimulator"
   ]
  },
  {
   "cell_type": "code",
   "execution_count": 4,
   "id": "environmental-facing",
   "metadata": {},
   "outputs": [
    {
     "data": {
      "text/plain": [
       "GateModelSimulatorDeviceCapabilities(service=DeviceServiceProperties(braketSchemaHeader=BraketSchemaHeader(name='braket.device_schema.device_service_properties', version='1'), executionWindows=[DeviceExecutionWindow(executionDay=<ExecutionDay.EVERYDAY: 'Everyday'>, windowStartHour=datetime.time(0, 0), windowEndHour=datetime.time(23, 59, 59))], shotsRange=(0, 9223372036854775807), deviceCost=None, deviceDocumentation=None, deviceLocation=None, updatedAt=None), action={<DeviceActionType.JAQCD: 'braket.ir.jaqcd.program'>: JaqcdDeviceActionProperties(version=['1'], actionType=<DeviceActionType.JAQCD: 'braket.ir.jaqcd.program'>, supportedOperations=['CCNot', 'CNot', 'CPhaseShift', 'CPhaseShift00', 'CPhaseShift01', 'CPhaseShift10', 'CSwap', 'CY', 'CZ', 'H', 'I', 'ISwap', 'PSwap', 'PhaseShift', 'Rx', 'Ry', 'Rz', 'S', 'Si', 'Swap', 'T', 'Ti', 'Unitary', 'V', 'Vi', 'X', 'XX', 'XY', 'Y', 'YY', 'Z', 'ZZ'], supportedResultTypes=[ResultType(name='Sample', observables=['X', 'Y', 'Z', 'H', 'I', 'Hermitian'], minShots=1, maxShots=9223372036854775807), ResultType(name='Expectation', observables=['X', 'Y', 'Z', 'H', 'I', 'Hermitian'], minShots=0, maxShots=9223372036854775807), ResultType(name='Variance', observables=['X', 'Y', 'Z', 'H', 'I', 'Hermitian'], minShots=0, maxShots=9223372036854775807), ResultType(name='Probability', observables=None, minShots=0, maxShots=9223372036854775807), ResultType(name='StateVector', observables=None, minShots=0, maxShots=0), ResultType(name='Amplitude', observables=None, minShots=0, maxShots=0)], disabledQubitRewiringSupported=None)}, deviceParameters={'title': 'GateModelSimulatorDeviceParameters', 'description': 'This defines the parameters common to all the gatemodel devices.\\n\\nAttributes:\\n    paradigmParameters: Parameters that are common to gatemodel paradigm\\n\\nExamples:\\n    >>> import json\\n    >>> input_json = {\\n    ...    \"braketSchemaHeader\": {\\n    ...        \"name\": \"braket.device_schema.simulators.gate_model_simulator_device_parameters\",\\n    ...        \"version\": \"1\",\\n    ...    },\\n    ...    \"paradigmParameters\": {\"braketSchemaHeader\": {\\n    ...        \"name\": \"braket.device_schema.gate_model_parameters\",\\n    ...        \"version\": \"1\",\\n    ...    },\"qubitCount\": 1},\\n    ... }\\n    >>> GateModelSimulatorDeviceParameters.parse_raw_schema(json.dumps(input_json))', 'type': 'object', 'properties': {'braketSchemaHeader': {'title': 'Braketschemaheader', 'const': BraketSchemaHeader(name='braket.device_schema.simulators.gate_model_simulator_device_parameters', version='1')}, 'paradigmParameters': {'$ref': '#/definitions/GateModelParameters'}}, 'required': ['paradigmParameters'], 'definitions': {'GateModelParameters': {'title': 'GateModelParameters', 'description': 'Defines parameters common to all gate model devices.\\n\\nAttributes:\\n    qubitCount: Number of qubits used by the circuit.\\n    disableQubitRewiring: Whether to run the circuit with the exact qubits chosen,\\n        without any rewiring downstream.\\n        If ``True``, no qubit rewiring is allowed; if ``False``, qubit rewiring is allowed.\\n\\nExamples:\\n    >>> import json\\n    >>> input_json = {\\n    ...    \"braketSchemaHeader\": {\\n    ...        \"name\": \"braket.device_schema.gate_model_parameters\",\\n    ...        \"version\": \"1\",\\n    ...    },\\n    ...    \"qubitCount\": 1,\\n    ...    \"disableQubitRewiring\": True\\n    ... }\\n    >>> GateModelParameters.parse_raw_schema(json.dumps(input_json))', 'type': 'object', 'properties': {'braketSchemaHeader': {'title': 'Braketschemaheader', 'const': BraketSchemaHeader(name='braket.device_schema.gate_model_parameters', version='1')}, 'qubitCount': {'title': 'Qubitcount', 'minimum': 0, 'type': 'integer'}, 'disableQubitRewiring': {'title': 'Disablequbitrewiring', 'default': False, 'type': 'boolean'}}, 'required': ['qubitCount']}}}, braketSchemaHeader=BraketSchemaHeader(name='braket.device_schema.simulators.gate_model_simulator_device_capabilities', version='1'), paradigm=GateModelSimulatorParadigmProperties(braketSchemaHeader=BraketSchemaHeader(name='braket.device_schema.simulators.gate_model_simulator_paradigm_properties', version='1'), qubitCount=26))"
      ]
     },
     "execution_count": 4,
     "metadata": {},
     "output_type": "execute_result"
    }
   ],
   "source": [
    "# device = AwsDevice('arn:aws:braket:::device/quantum-simulator/amazon/sv1')      #SV1\n",
    "device = LocalSimulator()                                                     #Local Simulator\n",
    "# device = AwsDevice('arn:aws:braket:::device/quantum-simulator/amazon/tn1')    #TN1\n",
    "# device = AwsDevice('arn:aws:braket:::device/qpu/d-wave/DW_2000Q_6')           #D-Wave 2000Q\n",
    "# device = AwsDevice('arn:aws:braket:::device/qpu/d-wave/Advantage_system1')    #D-Wave Advantage_system\n",
    "# device = AwsDevice('arn:aws:braket:::device/qpu/ionq/ionQdevice')             #IonQ\n",
    "# device = AwsDevice('arn:aws:braket:::device/qpu/rigetti/Aspen-8')             #Aspen-8\n",
    "\n",
    "# get device properties\n",
    "device.properties"
   ]
  },
  {
   "cell_type": "code",
   "execution_count": null,
   "id": "tribal-determination",
   "metadata": {},
   "outputs": [],
   "source": []
  }
 ],
 "metadata": {
  "kernelspec": {
   "display_name": "Python 3",
   "language": "python",
   "name": "python3"
  },
  "language_info": {
   "codemirror_mode": {
    "name": "ipython",
    "version": 3
   },
   "file_extension": ".py",
   "mimetype": "text/x-python",
   "name": "python",
   "nbconvert_exporter": "python",
   "pygments_lexer": "ipython3",
   "version": "3.8.2"
  }
 },
 "nbformat": 4,
 "nbformat_minor": 5
}
