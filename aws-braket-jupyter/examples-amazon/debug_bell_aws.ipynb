{
 "cells": [
  {
   "cell_type": "code",
   "execution_count": 1,
   "id": "exterior-dominant",
   "metadata": {},
   "outputs": [],
   "source": [
    "# Copyright 2019-2019 Amazon.com, Inc. or its affiliates. All Rights Reserved.\n",
    "#\n",
    "# Licensed under the Apache License, Version 2.0 (the \"License\"). You\n",
    "# may not use this file except in compliance with the License. A copy of\n",
    "# the License is located at\n",
    "#\n",
    "#     http://aws.amazon.com/apache2.0/\n",
    "#\n",
    "# or in the \"license\" file accompanying this file. This file is\n",
    "# distributed on an \"AS IS\" BASIS, WITHOUT WARRANTIES OR CONDITIONS OF\n",
    "# ANY KIND, either express or implied. See the License for the specific\n",
    "# language governing permissions and limitations under the License.\n",
    "\n",
    "import logging\n",
    "import sys\n",
    "\n",
    "import boto3\n",
    "\n",
    "from braket.aws import AwsDevice\n",
    "from braket.circuits import Circuit"
   ]
  },
  {
   "cell_type": "code",
   "execution_count": null,
   "id": "assured-regulation",
   "metadata": {},
   "outputs": [],
   "source": [
    "logger = logging.getLogger(\"newLogger\")  # create new logger\n",
    "logger.addHandler(logging.StreamHandler(stream=sys.stdout))  # configure to print to sys.stdout\n",
    "logger.setLevel(logging.DEBUG)  # print to sys.stdout all log messages with level DEBUG or above\n",
    "\n",
    "aws_account_id = boto3.client(\"sts\").get_caller_identity()[\"Account\"]\n",
    "\n",
    "device = AwsDevice(\"arn:aws:braket:::device/quantum-simulator/amazon/sv1\")\n",
    "s3_folder = (f\"amazon-braket-{aws_account_id}\", \"folder-name\")\n",
    "\n",
    "bell = Circuit().h(0).cnot(0, 1)\n",
    "# pass in logger to device.run, enabling debugging logs to print to console\n",
    "logger.info(\n",
    "    device.run(\n",
    "        bell,\n",
    "        s3_folder,\n",
    "        shots=100,\n",
    "        poll_timeout_seconds=120,\n",
    "        poll_interval_seconds=0.25,\n",
    "        logger=logger,\n",
    "    )\n",
    "    .result()\n",
    "    .measurement_counts\n",
    ")\n"
   ]
  }
 ],
 "metadata": {
  "kernelspec": {
   "display_name": "Python 3",
   "language": "python",
   "name": "python3"
  },
  "language_info": {
   "codemirror_mode": {
    "name": "ipython",
    "version": 3
   },
   "file_extension": ".py",
   "mimetype": "text/x-python",
   "name": "python",
   "nbconvert_exporter": "python",
   "pygments_lexer": "ipython3",
   "version": "3.8.2"
  }
 },
 "nbformat": 4,
 "nbformat_minor": 5
}
