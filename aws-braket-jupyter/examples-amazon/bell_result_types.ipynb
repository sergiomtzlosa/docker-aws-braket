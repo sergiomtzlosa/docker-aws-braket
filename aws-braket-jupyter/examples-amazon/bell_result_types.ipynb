{
 "cells": [
  {
   "cell_type": "code",
   "execution_count": 1,
   "id": "baking-monte",
   "metadata": {},
   "outputs": [],
   "source": [
    "# Copyright 2019-2019 Amazon.com, Inc. or its affiliates. All Rights Reserved.\n",
    "#\n",
    "# Licensed under the Apache License, Version 2.0 (the \"License\"). You\n",
    "# may not use this file except in compliance with the License. A copy of\n",
    "# the License is located at\n",
    "#\n",
    "#     http://aws.amazon.com/apache2.0/\n",
    "#\n",
    "# or in the \"license\" file accompanying this file. This file is\n",
    "# distributed on an \"AS IS\" BASIS, WITHOUT WARRANTIES OR CONDITIONS OF\n",
    "# ANY KIND, either express or implied. See the License for the specific\n",
    "# language governing permissions and limitations under the License.\n",
    "\n",
    "from braket.circuits import Circuit, Observable\n",
    "from braket.devices import LocalSimulator"
   ]
  },
  {
   "cell_type": "code",
   "execution_count": 2,
   "id": "pretty-oakland",
   "metadata": {},
   "outputs": [
    {
     "name": "stdout",
     "output_type": "stream",
     "text": [
      "Example for shots=0\n",
      "Marginal probability for target 0 in computational basis: [0.5 0.5]\n",
      "Expectation of target 1 in the computational basis: 0.0\n",
      "Amplitude of state 00: {'00': (0.7071067811865475+0j)}\n",
      "State vector: [0.70710678+0.j 0.        +0.j 0.        +0.j 0.70710678+0.j]\n",
      "\n",
      "Example for shots>0\n",
      "Expectation of target 0, 1 in the basis of Pauli-Y @ Pauli-X: 0.06\n",
      "Variance of target 0, 1 in the basis of Pauli-Y @ Pauli-X: 0.9963999999999996\n",
      "Samples of target 0, 1 in the basis of Pauli-Y @ Pauli-X: [-1.  1.  1.  1. -1.  1.  1. -1. -1. -1. -1. -1.  1. -1.  1. -1.  1. -1.\n",
      "  1.  1. -1. -1.  1.  1. -1.  1. -1. -1.  1.  1.  1. -1. -1. -1.  1.  1.\n",
      " -1. -1. -1.  1. -1. -1.  1. -1. -1.  1.  1.  1.  1.  1.  1.  1.  1.  1.\n",
      " -1. -1. -1.  1. -1.  1.  1. -1. -1.  1.  1. -1.  1. -1. -1. -1.  1.  1.\n",
      "  1. -1. -1. -1.  1.  1.  1. -1. -1.  1.  1.  1.  1. -1.  1. -1.  1.  1.\n",
      "  1.  1. -1.  1. -1. -1. -1.  1.  1. -1.]\n"
     ]
    }
   ],
   "source": [
    "device = LocalSimulator()\n",
    "\n",
    "print(\"Example for shots=0\")\n",
    "# Result types can be requested in the circuit\n",
    "# Example of result types for shots=0\n",
    "bell = (\n",
    "    Circuit()\n",
    "    .h(0)\n",
    "    .cnot(0, 1)\n",
    "    .probability(target=[0])\n",
    "    .expectation(observable=Observable.Z(), target=[1])\n",
    "    .amplitude(state=[\"00\"])\n",
    "    .state_vector()\n",
    ")\n",
    "\n",
    "# State vector and amplitude can only be requested when shots=0 for a simulator\n",
    "# When shots=0 for a simulator, probability, expectation, variance are the exact values,\n",
    "# not calculated from measurements\n",
    "# Users cannot request Sample as a result when shots=0\n",
    "result = device.run(bell).result()\n",
    "print(\"Marginal probability for target 0 in computational basis:\", result.values[0])\n",
    "print(\"Expectation of target 1 in the computational basis:\", result.values[1])\n",
    "print(\"Amplitude of state 00:\", result.values[2])\n",
    "print(\"State vector:\", result.values[3])\n",
    "\n",
    "print(\"\\nExample for shots>0\")\n",
    "# Example of result types for shots > 0\n",
    "bell = (\n",
    "    Circuit()\n",
    "    .h(0)\n",
    "    .cnot(0, 1)\n",
    "    .expectation(observable=Observable.Y() @ Observable.X(), target=[0, 1])\n",
    "    .variance(observable=Observable.Y() @ Observable.X(), target=[0, 1])\n",
    "    .sample(observable=Observable.Y() @ Observable.X(), target=[0, 1])\n",
    ")\n",
    "\n",
    "# When shots>0 for a simulator, probability, expectation, variance are calculated from measurements\n",
    "# Users can request sample as a result when shots > 0\n",
    "result = device.run(bell, shots=100).result()\n",
    "print(\"Expectation of target 0, 1 in the basis of Pauli-Y @ Pauli-X:\", result.values[0])\n",
    "print(\"Variance of target 0, 1 in the basis of Pauli-Y @ Pauli-X:\", result.values[1])\n",
    "print(\"Samples of target 0, 1 in the basis of Pauli-Y @ Pauli-X:\", result.values[2])\n",
    "\n",
    "# Probability, sample, expectation, and variance are also supported for QPU devices\n"
   ]
  },
  {
   "cell_type": "code",
   "execution_count": null,
   "id": "rising-brighton",
   "metadata": {},
   "outputs": [],
   "source": []
  }
 ],
 "metadata": {
  "kernelspec": {
   "display_name": "Python 3",
   "language": "python",
   "name": "python3"
  },
  "language_info": {
   "codemirror_mode": {
    "name": "ipython",
    "version": 3
   },
   "file_extension": ".py",
   "mimetype": "text/x-python",
   "name": "python",
   "nbconvert_exporter": "python",
   "pygments_lexer": "ipython3",
   "version": "3.8.2"
  }
 },
 "nbformat": 4,
 "nbformat_minor": 5
}
