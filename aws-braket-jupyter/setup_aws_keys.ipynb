{
 "cells": [
  {
   "cell_type": "markdown",
   "id": "combined-balance",
   "metadata": {},
   "source": [
    "## Setup AWS keys to use remote quantum computer:"
   ]
  },
  {
   "cell_type": "markdown",
   "id": "absolute-hungarian",
   "metadata": {},
   "source": [
    "https://pypi.org/project/boto3/"
   ]
  },
  {
   "cell_type": "markdown",
   "id": "acknowledged-friend",
   "metadata": {},
   "source": [
    "https://docs.aws.amazon.com/braket/latest/developerguide/braket-using-boto3-profiles.html"
   ]
  },
  {
   "cell_type": "markdown",
   "id": "noted-router",
   "metadata": {},
   "source": [
    "https://docs.aws.amazon.com/braket/latest/developerguide/braket-devices.html"
   ]
  },
  {
   "cell_type": "markdown",
   "id": "characteristic-wellington",
   "metadata": {},
   "source": [
    "Braket project: https://github.com/aws/amazon-braket-sdk-python"
   ]
  },
  {
   "cell_type": "code",
   "execution_count": null,
   "id": "brazilian-celebrity",
   "metadata": {},
   "outputs": [],
   "source": []
  }
 ],
 "metadata": {
  "kernelspec": {
   "display_name": "Python 3",
   "language": "python",
   "name": "python3"
  },
  "language_info": {
   "codemirror_mode": {
    "name": "ipython",
    "version": 3
   },
   "file_extension": ".py",
   "mimetype": "text/x-python",
   "name": "python",
   "nbconvert_exporter": "python",
   "pygments_lexer": "ipython3",
   "version": "3.8.2"
  }
 },
 "nbformat": 4,
 "nbformat_minor": 5
}
