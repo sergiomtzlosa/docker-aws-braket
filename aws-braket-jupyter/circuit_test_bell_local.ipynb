{
 "cells": [
  {
   "cell_type": "code",
   "execution_count": 1,
   "id": "legitimate-bachelor",
   "metadata": {},
   "outputs": [],
   "source": [
    "from braket.circuits import Circuit\n",
    "from braket.devices import LocalSimulator\n",
    "import matplotlib.pyplot as plt"
   ]
  },
  {
   "cell_type": "code",
   "execution_count": 2,
   "id": "fitting-calendar",
   "metadata": {},
   "outputs": [
    {
     "name": "stdout",
     "output_type": "stream",
     "text": [
      "Counts for collapsed states:\n",
      " Counter({'11': 59, '00': 41})\n",
      "Probabilities for collapsed states:\n",
      " {'11': 0.59, '00': 0.41}\n"
     ]
    }
   ],
   "source": [
    "bell = Circuit()\n",
    "bell.h(0)\n",
    "bell.cnot(0, 1)\n",
    "\n",
    "device = LocalSimulator()\n",
    "result = device.run(bell, shots=100).result()\n",
    "\n",
    "#print('Measurement results:\\n',result.measurements)\n",
    "print('Counts for collapsed states: \\n',result.measurement_counts)\n",
    "print('Probabilities for collapsed states: \\n',result.measurement_probabilities)"
   ]
  },
  {
   "cell_type": "code",
   "execution_count": 3,
   "id": "junior-tactics",
   "metadata": {},
   "outputs": [
    {
     "data": {
      "image/png": "[encoded data removed]",
      "text/plain": [
       "<Figure size 432x288 with 1 Axes>"
      ]
     },
     "metadata": {
      "needs_background": "light"
     },
     "output_type": "display_data"
    }
   ],
   "source": [
    "plt.bar(result.measurement_counts.keys(), result.measurement_counts.values());\n",
    "plt.xlabel('bitstrings');\n",
    "plt.ylabel('counts');"
   ]
  },
  {
   "cell_type": "code",
   "execution_count": null,
   "id": "ongoing-caution",
   "metadata": {},
   "outputs": [],
   "source": []
  }
 ],
 "metadata": {
  "kernelspec": {
   "display_name": "Python 3",
   "language": "python",
   "name": "python3"
  },
  "language_info": {
   "codemirror_mode": {
    "name": "ipython",
    "version": 3
   },
   "file_extension": ".py",
   "mimetype": "text/x-python",
   "name": "python",
   "nbconvert_exporter": "python",
   "pygments_lexer": "ipython3",
   "version": "3.8.2"
  }
 },
 "nbformat": 4,
 "nbformat_minor": 5
}
