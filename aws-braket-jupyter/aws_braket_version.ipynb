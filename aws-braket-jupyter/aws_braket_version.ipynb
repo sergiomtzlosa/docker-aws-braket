{
 "cells": [
  {
   "cell_type": "code",
   "execution_count": 1,
   "id": "victorian-cooperation",
   "metadata": {},
   "outputs": [
    {
     "data": {
      "text/plain": [
       "'1.5.10.dev0'"
      ]
     },
     "execution_count": 1,
     "metadata": {},
     "output_type": "execute_result"
    }
   ],
   "source": [
    "import braket._sdk as braket_sdk\n",
    "braket_sdk.__version__"
   ]
  },
  {
   "cell_type": "markdown",
   "id": "furnished-gossip",
   "metadata": {},
   "source": [
    "more info at: https://github.com/aws/amazon-braket-sdk-python"
   ]
  },
  {
   "cell_type": "markdown",
   "id": "suffering-republican",
   "metadata": {},
   "source": [
    "https://aws.amazon.com/blogs/aws/amazon-braket-get-started-with-quantum-computing/"
   ]
  },
  {
   "cell_type": "code",
   "execution_count": null,
   "id": "colored-cement",
   "metadata": {},
   "outputs": [],
   "source": []
  }
 ],
 "metadata": {
  "kernelspec": {
   "display_name": "Python 3",
   "language": "python",
   "name": "python3"
  },
  "language_info": {
   "codemirror_mode": {
    "name": "ipython",
    "version": 3
   },
   "file_extension": ".py",
   "mimetype": "text/x-python",
   "name": "python",
   "nbconvert_exporter": "python",
   "pygments_lexer": "ipython3",
   "version": "3.8.2"
  }
 },
 "nbformat": 4,
 "nbformat_minor": 5
}
